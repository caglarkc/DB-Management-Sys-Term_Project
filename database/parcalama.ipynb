{
 "cells": [
  {
   "cell_type": "code",
   "execution_count": 14,
   "metadata": {},
   "outputs": [
    {
     "name": "stdout",
     "output_type": "stream",
     "text": [
      "Seçilen sütunlar yeni dosyaya kaydedildi: 'datalar/language.csv'\n"
     ]
    }
   ],
   "source": [
    "import csv\n",
    "\n",
    "def extract_selected_columns(input_file, output_file, selected_columns):\n",
    "    try:\n",
    "        # Seçilen sütunların indekslerini tut\n",
    "        selected_indices = [int(idx) - 1 for idx in selected_columns.split(\",\")]  # Kullanıcı 1'den başlıyor, Python 0'dan\n",
    "\n",
    "        # Girdi dosyasını oku ve seçilen sütunları al\n",
    "        with open(input_file, mode='r', encoding='utf-8') as infile:\n",
    "            reader = csv.reader(infile)\n",
    "            all_rows = list(reader)  # Tüm satırları listeye çevir\n",
    "            headers = all_rows[0]  # İlk satır başlıklar\n",
    "            data_rows = all_rows[1:]  # Geri kalanlar veri\n",
    "\n",
    "            # Seçilen sütunların başlıklarını al\n",
    "            selected_headers = [headers[i] for i in selected_indices]\n",
    "\n",
    "            # Seçilen sütunların verilerini al\n",
    "            selected_data = []\n",
    "            for row in data_rows:\n",
    "                selected_data.append([row[i] for i in selected_indices])\n",
    "\n",
    "        # Yeni dosyaya yaz\n",
    "        with open(output_file, mode='w', encoding='utf-8', newline='') as outfile:\n",
    "            writer = csv.writer(outfile)\n",
    "            writer.writerow(selected_headers)  # Başlıkları yaz\n",
    "            writer.writerows(selected_data)  # Seçilen veriyi yaz\n",
    "\n",
    "        print(f\"Seçilen sütunlar yeni dosyaya kaydedildi: '{output_file}'\")\n",
    "\n",
    "    except FileNotFoundError:\n",
    "        print(\"Dosya bulunamadı. Lütfen dosya yolunu kontrol edin.\")\n",
    "    except IndexError:\n",
    "        print(\"Seçilen sütunlardan biri dosyada bulunamadı.\")\n",
    "    except Exception as e:\n",
    "        print(f\"Bir hata oluştu: {e}\")\n",
    "\n",
    "# Kullanım Örneği\n",
    "input_file = \"data_sonhali.csv\"  # Giriş dosyanız\n",
    "output_file = \"datalar/language.csv\"  # Çıkış dosyanız\n",
    "selected_columns = \"41,42\"  # Seçmek istediğiniz sütunların indeksleri\n",
    "\n",
    "extract_selected_columns(input_file, output_file, selected_columns)\n"
   ]
  },
  {
   "cell_type": "code",
   "execution_count": 24,
   "metadata": {},
   "outputs": [
    {
     "name": "stdout",
     "output_type": "stream",
     "text": [
      "İlk 1000 satır başarıyla 'student_university_1k.csv' dosyasına kaydedildi.\n"
     ]
    }
   ],
   "source": [
    "import pandas as pd\n",
    "\n",
    "# Orijinal CSV dosyasının yolu\n",
    "input_file = 'datalar/student_university.csv'\n",
    "\n",
    "# Çıktı CSV dosyasının yolu\n",
    "output_file = 'student_university_1k.csv'\n",
    "\n",
    "# Kaç satır almak istediğinizi belirleyin\n",
    "num_rows = 1000\n",
    "\n",
    "# CSV dosyasını okuyun ve sadece belirli satırları seçin\n",
    "try:\n",
    "    # İlk `num_rows` satırı oku\n",
    "    df = pd.read_csv(input_file, nrows=num_rows)\n",
    "    \n",
    "    # Yeni bir CSV dosyasına yaz\n",
    "    df.to_csv(output_file, index=False)\n",
    "    \n",
    "    print(f\"İlk {num_rows} satır başarıyla '{output_file}' dosyasına kaydedildi.\")\n",
    "except Exception as e:\n",
    "    print(f\"Hata oluştu: {e}\")"
   ]
  },
  {
   "cell_type": "code",
   "execution_count": 30,
   "metadata": {},
   "outputs": [
    {
     "name": "stdout",
     "output_type": "stream",
     "text": [
      "Index sütunu başarıyla 'activities_1k.csv' dosyasına eklendi.\n"
     ]
    }
   ],
   "source": [
    "import pandas as pd\n",
    "\n",
    "# Orijinal CSV dosyasının yolu\n",
    "input_file = 'activities_1k.csv'\n",
    "\n",
    "# Çıktı CSV dosyasının yolu\n",
    "output_file = 'activities_1k.csv'\n",
    "\n",
    "try:\n",
    "    # CSV dosyasını okuyun\n",
    "    df = pd.read_csv(input_file)\n",
    "\n",
    "    # \"index\" sütununu ekleyin\n",
    "    df.insert(0, 'index1', range(1, len(df) + 1))  # Sıfırıncı sütun olarak 'index' ekliyor\n",
    "\n",
    "    # Yeni CSV dosyasına yazın\n",
    "    df.to_csv(output_file, index=False)\n",
    "\n",
    "    print(f\"Index sütunu başarıyla '{output_file}' dosyasına eklendi.\")\n",
    "except Exception as e:\n",
    "    print(f\"Hata oluştu: {e}\")\n"
   ]
  },
  {
   "cell_type": "code",
   "execution_count": 23,
   "metadata": {},
   "outputs": [
    {
     "name": "stdout",
     "output_type": "stream",
     "text": [
      "Index1 ve Index2 sütunları başarıyla 'student_university_1k.csv' dosyasının sonuna eklendi.\n"
     ]
    }
   ],
   "source": [
    "import pandas as pd\n",
    "\n",
    "# Orijinal CSV dosyasının yolu\n",
    "input_file = 'student_university_1k.csv'\n",
    "\n",
    "# Çıktı CSV dosyasının yolu\n",
    "output_file = 'student_university_1k.csv'\n",
    "\n",
    "try:\n",
    "    # CSV dosyasını okuyun\n",
    "    df = pd.read_csv(input_file)\n",
    "\n",
    "    # \"index1\" ve \"index2\" sütunlarını ekleyin (son sütunlar olarak)\n",
    "    df['index1'] = range(1, len(df) + 1)  # İlk index sütunu\n",
    "    df['index2'] = range(1, 1 + len(df))  # İkinci index sütunu (örnekte farklı bir başlangıç)\n",
    "\n",
    "    # Yeni CSV dosyasına yazın\n",
    "    df.to_csv(output_file, index=False)\n",
    "\n",
    "    print(f\"Index1 ve Index2 sütunları başarıyla '{output_file}' dosyasının sonuna eklendi.\")\n",
    "except Exception as e:\n",
    "    print(f\"Hata oluştu: {e}\")\n"
   ]
  }
 ],
 "metadata": {
  "kernelspec": {
   "display_name": "Python 3",
   "language": "python",
   "name": "python3"
  },
  "language_info": {
   "codemirror_mode": {
    "name": "ipython",
    "version": 3
   },
   "file_extension": ".py",
   "mimetype": "text/x-python",
   "name": "python",
   "nbconvert_exporter": "python",
   "pygments_lexer": "ipython3",
   "version": "3.10.0"
  }
 },
 "nbformat": 4,
 "nbformat_minor": 2
}
