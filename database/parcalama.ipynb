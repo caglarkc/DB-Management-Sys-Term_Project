{
 "cells": [
  {
   "cell_type": "code",
   "execution_count": null,
   "metadata": {},
   "outputs": [
    {
     "name": "stdout",
     "output_type": "stream",
     "text": [
      "Seçilen sütunlar yeni dosyaya kaydedildi: 'selected_columns_output.csv'\n"
     ]
    }
   ],
   "source": [
    "import csv\n",
    "\n",
    "def extract_selected_columns(input_file, output_file, selected_columns):\n",
    "    try:\n",
    "        # Seçilen sütunların indekslerini tut\n",
    "        selected_indices = [int(idx) - 1 for idx in selected_columns.split(\",\")]  # Kullanıcı 1'den başlıyor, Python 0'dan\n",
    "\n",
    "        # Girdi dosyasını oku ve seçilen sütunları al\n",
    "        with open(input_file, mode='r', encoding='utf-8') as infile:\n",
    "            reader = csv.reader(infile)\n",
    "            all_rows = list(reader)  # Tüm satırları listeye çevir\n",
    "            headers = all_rows[0]  # İlk satır başlıklar\n",
    "            data_rows = all_rows[1:]  # Geri kalanlar veri\n",
    "\n",
    "            # Seçilen sütunların başlıklarını al\n",
    "            selected_headers = [headers[i] for i in selected_indices]\n",
    "\n",
    "            # Seçilen sütunların verilerini al\n",
    "            selected_data = []\n",
    "            for row in data_rows:\n",
    "                selected_data.append([row[i] for i in selected_indices])\n",
    "\n",
    "        # Yeni dosyaya yaz\n",
    "        with open(output_file, mode='w', encoding='utf-8', newline='') as outfile:\n",
    "            writer = csv.writer(outfile)\n",
    "            writer.writerow(selected_headers)  # Başlıkları yaz\n",
    "            writer.writerows(selected_data)  # Seçilen veriyi yaz\n",
    "\n",
    "        print(f\"Seçilen sütunlar yeni dosyaya kaydedildi: '{output_file}'\")\n",
    "\n",
    "    except FileNotFoundError:\n",
    "        print(\"Dosya bulunamadı. Lütfen dosya yolunu kontrol edin.\")\n",
    "    except IndexError:\n",
    "        print(\"Seçilen sütunlardan biri dosyada bulunamadı.\")\n",
    "    except Exception as e:\n",
    "        print(f\"Bir hata oluştu: {e}\")\n",
    "\n",
    "# Kullanım Örneği\n",
    "input_file = \"liseBolum_duzeldi.csv\"  # Giriş dosyanız\n",
    "output_file = \"datalar/selected_columns_output.csv\"  # Çıkış dosyanız\n",
    "selected_columns = \"1,2,11\"  # Seçmek istediğiniz sütunların indeksleri\n",
    "\n",
    "extract_selected_columns(input_file, output_file, selected_columns)\n"
   ]
  }
 ],
 "metadata": {
  "kernelspec": {
   "display_name": "Python 3",
   "language": "python",
   "name": "python3"
  },
  "language_info": {
   "codemirror_mode": {
    "name": "ipython",
    "version": 3
   },
   "file_extension": ".py",
   "mimetype": "text/x-python",
   "name": "python",
   "nbconvert_exporter": "python",
   "pygments_lexer": "ipython3",
   "version": "3.10.0"
  }
 },
 "nbformat": 4,
 "nbformat_minor": 2
}
