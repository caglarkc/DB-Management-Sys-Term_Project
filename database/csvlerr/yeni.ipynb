{
 "cells": [
  {
   "cell_type": "code",
   "execution_count": 108,
   "metadata": {},
   "outputs": [
    {
     "name": "stdout",
     "output_type": "stream",
     "text": [
      "'sayisal' değeri 'Null' ile değiştirildi ve sonuç 'liseBolum_duzeldi.csv' dosyasına kaydedildi.\n"
     ]
    }
   ],
   "source": [
    "import csv\n",
    "\n",
    "def replace_column_value(file_path, column_name, old_value, new_value, output_file):\n",
    "    try:\n",
    "        # Geçici bir liste tutarak yeni veriyi saklayacağız\n",
    "        updated_rows = []\n",
    "\n",
    "        # CSV dosyasını oku\n",
    "        with open(file_path, mode='r', encoding='utf-8') as file:\n",
    "            reader = csv.DictReader(file)\n",
    "            headers = reader.fieldnames  # Sütun başlıklarını al\n",
    "\n",
    "            # Her satırı oku ve güncelle\n",
    "            for row in reader:\n",
    "                if row[column_name] == old_value:\n",
    "                    row[column_name] = new_value  # Eski değeri yeni değerle değiştir\n",
    "                updated_rows.append(row)  # Güncellenmiş satırı sakla\n",
    "\n",
    "        # Güncellenmiş veriyi yeni bir dosyaya yaz\n",
    "        with open(output_file, mode='w', encoding='utf-8', newline='') as file:\n",
    "            writer = csv.DictWriter(file, fieldnames=headers)\n",
    "            writer.writeheader()  # Başlıkları yaz\n",
    "            writer.writerows(updated_rows)  # Güncellenmiş satırları yaz\n",
    "\n",
    "        print(f\"'{old_value}' değeri '{new_value}' ile değiştirildi ve sonuç '{output_file}' dosyasına kaydedildi.\")\n",
    "\n",
    "    except FileNotFoundError:\n",
    "        print(\"Dosya bulunamadı. Lütfen dosya yolunu kontrol edin.\")\n",
    "    except KeyError:\n",
    "        print(f\"Hata: '{column_name}' sütunu CSV dosyasında bulunamadı.\")\n",
    "    except Exception as e:\n",
    "        print(f\"Bir hata oluştu: {e}\")\n",
    "\n",
    "# Kullanım Örneği\n",
    "file_path = \"liseBolum_duzeldi.csv\"  # Giriş dosyanız\n",
    "output_file = \"liseBolum_duzeldi.csv\"  # Çıkış dosyanız\n",
    "\n",
    "# Değişiklik parametreleri\n",
    "column_name = \"Lise Bolum Diger\" \n",
    "old_value = \"sayisal\"  # Eski değer\n",
    "new_value = \"Null\"  # Yeni değer\n",
    "\n",
    "replace_column_value(file_path, column_name, old_value, new_value, output_file)"
   ]
  },
  {
   "cell_type": "code",
   "execution_count": 76,
   "metadata": {},
   "outputs": [
    {
     "name": "stdout",
     "output_type": "stream",
     "text": [
      "Değerler '.00' içeren satırlar '' ile değiştirildi ve sonuç 'liseBolum_duzeldi_new.csv' dosyasına kaydedildi.\n"
     ]
    }
   ],
   "source": [
    "import csv\n",
    "\n",
    "def replace_column_value(file_path, column_name, old_value, new_value, output_file):\n",
    "    try:\n",
    "        updated_rows = []\n",
    "\n",
    "        with open(file_path, mode='r', encoding='utf-8') as file:\n",
    "            reader = csv.DictReader(file)\n",
    "            headers = reader.fieldnames\n",
    "\n",
    "            for row in reader:\n",
    "                if old_value in row[column_name]:\n",
    "                    row[column_name] = row[column_name].replace(old_value, new_value)\n",
    "                updated_rows.append(row)\n",
    "\n",
    "        with open(output_file, mode='w', encoding='utf-8', newline='') as file:\n",
    "            writer = csv.DictWriter(file, fieldnames=headers)\n",
    "            writer.writeheader()\n",
    "            writer.writerows(updated_rows)\n",
    "\n",
    "        print(f\"Değerler '{old_value}' içeren satırlar '{new_value}' ile değiştirildi ve sonuç '{output_file}' dosyasına kaydedildi.\")\n",
    "\n",
    "    except FileNotFoundError:\n",
    "        print(\"Dosya bulunamadı. Lütfen dosya yolunu kontrol edin.\")\n",
    "    except KeyError:\n",
    "        print(f\"Hata: '{column_name}' sütunu CSV dosyasında bulunamadı.\")\n",
    "    except Exception as e:\n",
    "        print(f\"Bir hata oluştu: {e}\")\n",
    "\n",
    "# Kullanım Örneği\n",
    "file_path = \"liseBolum_duzeldi_new.csv\"\n",
    "output_file = \"liseBolum_duzeldi_new.csv\"\n",
    "column_name = \"Baska Kurumdan Aldigi Burs Miktari\"\n",
    "old_value = \".00\"\n",
    "new_value = \"\"\n",
    "\n",
    "replace_column_value(file_path, column_name, old_value, new_value,output_file)"
   ]
  },
  {
   "cell_type": "code",
   "execution_count": 82,
   "metadata": {},
   "outputs": [
    {
     "name": "stdout",
     "output_type": "stream",
     "text": [
      "'Baska Kurumdan Aldigi Burs Miktari' sütunundaki tüm değerler temizlendi ve sonuç 'liseBolum_duzeldi_cleaned.csv' dosyasına kaydedildi.\n"
     ]
    }
   ],
   "source": [
    "import csv\n",
    "import re\n",
    "\n",
    "def clean_column_values(file_path, column_name, output_file):\n",
    "    try:\n",
    "        # Geçici bir liste tutarak yeni veriyi saklayacağız\n",
    "        updated_rows = []\n",
    "\n",
    "        # CSV dosyasını oku\n",
    "        with open(file_path, mode='r', encoding='utf-8') as file:\n",
    "            reader = csv.DictReader(file)\n",
    "            headers = reader.fieldnames  # Sütun başlıklarını al\n",
    "\n",
    "            # Her satırı oku ve güncelle\n",
    "            for row in reader:\n",
    "                if column_name in row:  # Sütunun varlığını kontrol et\n",
    "                    # Sadece rakamları tut\n",
    "                    row[column_name] = re.sub(r'\\D', '', row[column_name])\n",
    "                updated_rows.append(row)  # Güncellenmiş satırı sakla\n",
    "\n",
    "        # Güncellenmiş veriyi yeni bir dosyaya yaz\n",
    "        with open(output_file, mode='w', encoding='utf-8', newline='') as file:\n",
    "            writer = csv.DictWriter(file, fieldnames=headers)\n",
    "            writer.writeheader()  # Başlıkları yaz\n",
    "            writer.writerows(updated_rows)  # Güncellenmiş satırları yaz\n",
    "\n",
    "        print(f\"'{column_name}' sütunundaki tüm değerler temizlendi ve sonuç '{output_file}' dosyasına kaydedildi.\")\n",
    "\n",
    "    except FileNotFoundError:\n",
    "        print(\"Dosya bulunamadı. Lütfen dosya yolunu kontrol edin.\")\n",
    "    except KeyError:\n",
    "        print(f\"Hata: '{column_name}' sütunu CSV dosyasında bulunamadı.\")\n",
    "    except Exception as e:\n",
    "        print(f\"Bir hata oluştu: {e}\")\n",
    "\n",
    "# Kullanım Örneği\n",
    "file_path = \"liseBolum_duzeldi_new.csv\"  # Giriş dosyanız\n",
    "output_file = \"liseBolum_duzeldi_cleaned.csv\"  # Çıkış dosyanız\n",
    "\n",
    "# Temizlenecek sütun\n",
    "column_name = \"Baska Kurumdan Aldigi Burs Miktari\" \n",
    "\n",
    "clean_column_values(file_path, column_name, output_file)\n"
   ]
  }
 ],
 "metadata": {
  "kernelspec": {
   "display_name": "Python 3",
   "language": "python",
   "name": "python3"
  },
  "language_info": {
   "codemirror_mode": {
    "name": "ipython",
    "version": 3
   },
   "file_extension": ".py",
   "mimetype": "text/x-python",
   "name": "python",
   "nbconvert_exporter": "python",
   "pygments_lexer": "ipython3",
   "version": "3.10.0"
  }
 },
 "nbformat": 4,
 "nbformat_minor": 2
}
